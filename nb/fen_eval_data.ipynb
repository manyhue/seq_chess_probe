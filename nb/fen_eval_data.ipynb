{
 "cells": [
  {
   "cell_type": "code",
   "execution_count": 2,
   "metadata": {},
   "outputs": [
    {
     "data": {
      "text/html": [
       "<div><style>\n",
       ".dataframe > thead > tr,\n",
       ".dataframe > tbody > tr {\n",
       "  text-align: right;\n",
       "  white-space: pre-wrap;\n",
       "}\n",
       "</style>\n",
       "<small>shape: (16_586_527, 2)</small><table border=\"1\" class=\"dataframe\"><thead><tr><th>FEN</th><th>Evaluation</th></tr><tr><td>list[i64]</td><td>i64</td></tr></thead><tbody><tr><td>[31, 28, … 1]</td><td>11</td></tr><tr><td>[31, 28, … 1]</td><td>2</td></tr><tr><td>[31, 28, … 1]</td><td>11</td></tr><tr><td>[31, 28, … 1]</td><td>2</td></tr><tr><td>[31, 28, … 1]</td><td>11</td></tr><tr><td>&hellip;</td><td>&hellip;</td></tr><tr><td>[33, 33, … 1]</td><td>20</td></tr><tr><td>[31, 33, … 1]</td><td>5</td></tr><tr><td>[7, 33, … 1]</td><td>10</td></tr><tr><td>[33, 33, … 1]</td><td>20</td></tr><tr><td>[31, 33, … 1]</td><td>20</td></tr></tbody></table></div>"
      ],
      "text/plain": [
       "shape: (16_586_527, 2)\n",
       "┌───────────────┬────────────┐\n",
       "│ FEN           ┆ Evaluation │\n",
       "│ ---           ┆ ---        │\n",
       "│ list[i64]     ┆ i64        │\n",
       "╞═══════════════╪════════════╡\n",
       "│ [31, 28, … 1] ┆ 11         │\n",
       "│ [31, 28, … 1] ┆ 2          │\n",
       "│ [31, 28, … 1] ┆ 11         │\n",
       "│ [31, 28, … 1] ┆ 2          │\n",
       "│ [31, 28, … 1] ┆ 11         │\n",
       "│ …             ┆ …          │\n",
       "│ [33, 33, … 1] ┆ 20         │\n",
       "│ [31, 33, … 1] ┆ 5          │\n",
       "│ [7, 33, … 1]  ┆ 10         │\n",
       "│ [33, 33, … 1] ┆ 20         │\n",
       "│ [31, 33, … 1] ┆ 20         │\n",
       "└───────────────┴────────────┘"
      ]
     },
     "execution_count": 2,
     "metadata": {},
     "output_type": "execute_result"
    }
   ],
   "source": [
    "import polars as pl\n",
    "import re\n",
    "from lib.chess import fen_labels\n",
    "\n",
    "\n",
    "def replace_fen(x: str):\n",
    "    words = x.split()\n",
    "\n",
    "    first_word = words[0]\n",
    "    processed_first_word = re.sub(r\"\\d\", lambda m: \"z\" * int(m.group(0)), first_word)\n",
    "    arr = (\n",
    "        list(processed_first_word)\n",
    "        + [\" \"]\n",
    "        + [\"black\" if words[1] == \"b\" else \"white\"]\n",
    "        + [\" \"]\n",
    "        + list(words[2])\n",
    "        + [\"-\"] * (4 - len(words[2]))\n",
    "        + [\" \"]\n",
    "        + [words[3]]\n",
    "    )\n",
    "    q = list(fen_labels.transform(arr))\n",
    "    return q\n",
    "\n",
    "\n",
    "def replace_eval(x: str) -> int:\n",
    "    if \"#\" in x:\n",
    "        if \"+\" in x:\n",
    "            return 10\n",
    "        else:\n",
    "            return 20\n",
    "\n",
    "    val = int(x)\n",
    "\n",
    "    if val > 0:\n",
    "        if val >= 451:\n",
    "            return 10\n",
    "        else:\n",
    "            return (val - 1) // 50 + 1\n",
    "    else:\n",
    "        neg_val = -val\n",
    "        if neg_val == 0:\n",
    "            return 11\n",
    "        elif neg_val >= 451:\n",
    "            return 20\n",
    "        else:\n",
    "            return 11 + (neg_val - 1) // 50\n",
    "\n",
    "\n",
    "df = pl.concat(\n",
    "    [\n",
    "        pl.read_csv(\"resources/eval/chessData.csv\"),\n",
    "        pl.read_csv(\"resources/eval/random_evals.csv\"),\n",
    "        pl.read_csv(\"resources/eval/tactic_evals.csv\", columns=[\"FEN\", \"Evaluation\"]),\n",
    "    ]\n",
    ")\n",
    "\n",
    "df = df.with_columns(\n",
    "    [\n",
    "        pl.col(\"FEN\").map_elements(\n",
    "            replace_fen, return_dtype=pl.List(pl.Int64), skip_nulls=False\n",
    "        ),\n",
    "        pl.col(\"Evaluation\").map_elements(replace_eval, return_dtype=pl.Int64),\n",
    "    ]\n",
    ")\n",
    "\n",
    "df\n"
   ]
  },
  {
   "cell_type": "code",
   "execution_count": null,
   "metadata": {},
   "outputs": [
    {
     "name": "stdout",
     "output_type": "stream",
     "text": [
      "shape: (20,)\n",
      "Series: 'Evaluation' [i64]\n",
      "[\n",
      "\t1\n",
      "\t2\n",
      "\t3\n",
      "\t4\n",
      "\t5\n",
      "\t…\n",
      "\t16\n",
      "\t17\n",
      "\t18\n",
      "\t19\n",
      "\t20\n",
      "]\n"
     ]
    },
    {
     "data": {
      "text/html": [
       "<div><style>\n",
       ".dataframe > thead > tr,\n",
       ".dataframe > tbody > tr {\n",
       "  text-align: right;\n",
       "  white-space: pre-wrap;\n",
       "}\n",
       "</style>\n",
       "<small>shape: (1,)</small><table border=\"1\" class=\"dataframe\"><thead><tr><th>FEN</th></tr><tr><td>u32</td></tr></thead><tbody><tr><td>80</td></tr></tbody></table></div>"
      ],
      "text/plain": [
       "shape: (1,)\n",
       "Series: 'FEN' [u32]\n",
       "[\n",
       "\t80\n",
       "]"
      ]
     },
     "execution_count": 5,
     "metadata": {},
     "output_type": "execute_result"
    }
   ],
   "source": [
    "print(df[\"Evaluation\"].unique())\n",
    "df[\"FEN\"].list.len().unique()\n",
    "df = df.with_columns(lengths=pl.col(\"FEN\").list.to_array(80))"
   ]
  },
  {
   "cell_type": "code",
   "execution_count": 6,
   "metadata": {},
   "outputs": [],
   "source": [
    "df.write_parquet(\"resources/eval/eval.parquet\")\n"
   ]
  }
 ],
 "metadata": {
  "kernelspec": {
   "display_name": "dev",
   "language": "python",
   "name": "python3"
  },
  "language_info": {
   "codemirror_mode": {
    "name": "ipython",
    "version": 3
   },
   "file_extension": ".py",
   "mimetype": "text/x-python",
   "name": "python",
   "nbconvert_exporter": "python",
   "pygments_lexer": "ipython3",
   "version": "3.12.8"
  }
 },
 "nbformat": 4,
 "nbformat_minor": 2
}
